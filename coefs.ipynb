{
 "cells": [
  {
   "cell_type": "code",
   "execution_count": 2,
   "metadata": {},
   "outputs": [],
   "source": [
    "import pandas as pd \n",
    "import numpy as np\n",
    "import matplotlib.pyplot as plt\n",
    "import seaborn as sns\n",
    "\n",
    "pd.set_option('display.max_columns', None)\n",
    "pd.set_option('display.width', 100)\n",
    "pd.set_option('display.max_rows', 200)\n",
    "import warnings\n",
    "warnings.filterwarnings('ignore')"
   ]
  },
  {
   "cell_type": "code",
   "execution_count": 3,
   "metadata": {},
   "outputs": [],
   "source": [
    "df = pd.read_csv(r'agirlik_deneme.csv', low_memory=False)"
   ]
  },
  {
   "cell_type": "code",
   "execution_count": 4,
   "metadata": {},
   "outputs": [
    {
     "name": "stdout",
     "output_type": "stream",
     "text": [
      "Normalized Coefficients:\n",
      "0.0: 0.0390049816741701\n",
      "1.0: 0.033250491352068826\n",
      "2.0: 0.28236408145902636\n",
      "3.0: 0.18336957361022568\n",
      "5.0: 0.29869357050725925\n",
      "6.0: 0.16331730139724976\n"
     ]
    }
   ],
   "source": [
    "from typing import Dict\n",
    "\n",
    "def determine_coeffs_df(df: pd.DataFrame) -> Dict[str, float]:\n",
    "    label_counts = df.groupby('LABEL').size()\n",
    "    inverse_freq: Dict[str, float] = {k: 1 / v for k, v in label_counts.items()}\n",
    "    normalized_coeffs: Dict[str, float] = {k: v / sum(inverse_freq.values()) for k, v in inverse_freq.items()}\n",
    "    return normalized_coeffs\n",
    "\n",
    "# Fonksiyonu çağırma ve sonuçları yazdırma\n",
    "coeffs = determine_coeffs_df(df)\n",
    "if coeffs:\n",
    "    print(\"Normalized Coefficients:\")\n",
    "    for label, coeff in coeffs.items():\n",
    "        print(f\"{label}: {coeff}\")"
   ]
  },
  {
   "cell_type": "code",
   "execution_count": null,
   "metadata": {},
   "outputs": [],
   "source": []
  }
 ],
 "metadata": {
  "kernelspec": {
   "display_name": "Python 3",
   "language": "python",
   "name": "python3"
  },
  "language_info": {
   "codemirror_mode": {
    "name": "ipython",
    "version": 3
   },
   "file_extension": ".py",
   "mimetype": "text/x-python",
   "name": "python",
   "nbconvert_exporter": "python",
   "pygments_lexer": "ipython3",
   "version": "3.10.10"
  }
 },
 "nbformat": 4,
 "nbformat_minor": 2
}
